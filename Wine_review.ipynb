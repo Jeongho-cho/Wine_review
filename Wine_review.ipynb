{
 "cells": [
  {
   "cell_type": "markdown",
   "metadata": {},
   "source": [
    "## Data : Wine \n",
    "* 다양성, 위치, 와이너리, 가격 및 설명이 포함된 150,000개의 와인 리뷰\n",
    "* Data From : https://www.kaggle.com/datasets/zynicide/wine-reviews"
   ]
  },
  {
   "cell_type": "markdown",
   "metadata": {},
   "source": [
    "### 1. 데이터 불러오기"
   ]
  },
  {
   "cell_type": "markdown",
   "metadata": {},
   "source": [
    "* 기본 패키지 불러오기"
   ]
  },
  {
   "cell_type": "code",
   "execution_count": 1,
   "metadata": {},
   "outputs": [],
   "source": [
    "import math\n",
    "import numpy as np\n",
    "import pandas as pd\n",
    "import seaborn as sns\n",
    "import matplotlib.pyplot as plt\n",
    "import os\n",
    "pd.set_option('mode.chained_assignment',  None)"
   ]
  },
  {
   "cell_type": "markdown",
   "metadata": {},
   "source": [
    "* CSV 파일 불러오기 "
   ]
  },
  {
   "cell_type": "code",
   "execution_count": 2,
   "metadata": {},
   "outputs": [],
   "source": [
    "wn = pd.read_csv('winemag-data_first150k.csv')"
   ]
  },
  {
   "cell_type": "markdown",
   "metadata": {},
   "source": [
    "* 데이터 살펴보기"
   ]
  },
  {
   "cell_type": "code",
   "execution_count": 3,
   "metadata": {},
   "outputs": [
    {
     "data": {
      "text/html": [
       "<div>\n",
       "<style scoped>\n",
       "    .dataframe tbody tr th:only-of-type {\n",
       "        vertical-align: middle;\n",
       "    }\n",
       "\n",
       "    .dataframe tbody tr th {\n",
       "        vertical-align: top;\n",
       "    }\n",
       "\n",
       "    .dataframe thead th {\n",
       "        text-align: right;\n",
       "    }\n",
       "</style>\n",
       "<table border=\"1\" class=\"dataframe\">\n",
       "  <thead>\n",
       "    <tr style=\"text-align: right;\">\n",
       "      <th></th>\n",
       "      <th>Unnamed: 0</th>\n",
       "      <th>country</th>\n",
       "      <th>description</th>\n",
       "      <th>designation</th>\n",
       "      <th>points</th>\n",
       "      <th>price</th>\n",
       "      <th>province</th>\n",
       "      <th>region_1</th>\n",
       "      <th>region_2</th>\n",
       "      <th>variety</th>\n",
       "      <th>winery</th>\n",
       "    </tr>\n",
       "  </thead>\n",
       "  <tbody>\n",
       "    <tr>\n",
       "      <th>0</th>\n",
       "      <td>0</td>\n",
       "      <td>US</td>\n",
       "      <td>This tremendous 100% varietal wine hails from ...</td>\n",
       "      <td>Martha's Vineyard</td>\n",
       "      <td>96</td>\n",
       "      <td>235.0</td>\n",
       "      <td>California</td>\n",
       "      <td>Napa Valley</td>\n",
       "      <td>Napa</td>\n",
       "      <td>Cabernet Sauvignon</td>\n",
       "      <td>Heitz</td>\n",
       "    </tr>\n",
       "    <tr>\n",
       "      <th>1</th>\n",
       "      <td>1</td>\n",
       "      <td>Spain</td>\n",
       "      <td>Ripe aromas of fig, blackberry and cassis are ...</td>\n",
       "      <td>Carodorum Selección Especial Reserva</td>\n",
       "      <td>96</td>\n",
       "      <td>110.0</td>\n",
       "      <td>Northern Spain</td>\n",
       "      <td>Toro</td>\n",
       "      <td>NaN</td>\n",
       "      <td>Tinta de Toro</td>\n",
       "      <td>Bodega Carmen Rodríguez</td>\n",
       "    </tr>\n",
       "    <tr>\n",
       "      <th>2</th>\n",
       "      <td>2</td>\n",
       "      <td>US</td>\n",
       "      <td>Mac Watson honors the memory of a wine once ma...</td>\n",
       "      <td>Special Selected Late Harvest</td>\n",
       "      <td>96</td>\n",
       "      <td>90.0</td>\n",
       "      <td>California</td>\n",
       "      <td>Knights Valley</td>\n",
       "      <td>Sonoma</td>\n",
       "      <td>Sauvignon Blanc</td>\n",
       "      <td>Macauley</td>\n",
       "    </tr>\n",
       "    <tr>\n",
       "      <th>3</th>\n",
       "      <td>3</td>\n",
       "      <td>US</td>\n",
       "      <td>This spent 20 months in 30% new French oak, an...</td>\n",
       "      <td>Reserve</td>\n",
       "      <td>96</td>\n",
       "      <td>65.0</td>\n",
       "      <td>Oregon</td>\n",
       "      <td>Willamette Valley</td>\n",
       "      <td>Willamette Valley</td>\n",
       "      <td>Pinot Noir</td>\n",
       "      <td>Ponzi</td>\n",
       "    </tr>\n",
       "    <tr>\n",
       "      <th>4</th>\n",
       "      <td>4</td>\n",
       "      <td>France</td>\n",
       "      <td>This is the top wine from La Bégude, named aft...</td>\n",
       "      <td>La Brûlade</td>\n",
       "      <td>95</td>\n",
       "      <td>66.0</td>\n",
       "      <td>Provence</td>\n",
       "      <td>Bandol</td>\n",
       "      <td>NaN</td>\n",
       "      <td>Provence red blend</td>\n",
       "      <td>Domaine de la Bégude</td>\n",
       "    </tr>\n",
       "  </tbody>\n",
       "</table>\n",
       "</div>"
      ],
      "text/plain": [
       "   Unnamed: 0 country                                        description  \\\n",
       "0           0      US  This tremendous 100% varietal wine hails from ...   \n",
       "1           1   Spain  Ripe aromas of fig, blackberry and cassis are ...   \n",
       "2           2      US  Mac Watson honors the memory of a wine once ma...   \n",
       "3           3      US  This spent 20 months in 30% new French oak, an...   \n",
       "4           4  France  This is the top wine from La Bégude, named aft...   \n",
       "\n",
       "                            designation  points  price        province  \\\n",
       "0                     Martha's Vineyard      96  235.0      California   \n",
       "1  Carodorum Selección Especial Reserva      96  110.0  Northern Spain   \n",
       "2         Special Selected Late Harvest      96   90.0      California   \n",
       "3                               Reserve      96   65.0          Oregon   \n",
       "4                            La Brûlade      95   66.0        Provence   \n",
       "\n",
       "            region_1           region_2             variety  \\\n",
       "0        Napa Valley               Napa  Cabernet Sauvignon   \n",
       "1               Toro                NaN       Tinta de Toro   \n",
       "2     Knights Valley             Sonoma     Sauvignon Blanc   \n",
       "3  Willamette Valley  Willamette Valley          Pinot Noir   \n",
       "4             Bandol                NaN  Provence red blend   \n",
       "\n",
       "                    winery  \n",
       "0                    Heitz  \n",
       "1  Bodega Carmen Rodríguez  \n",
       "2                 Macauley  \n",
       "3                    Ponzi  \n",
       "4     Domaine de la Bégude  "
      ]
     },
     "execution_count": 3,
     "metadata": {},
     "output_type": "execute_result"
    }
   ],
   "source": [
    "wn.head(5)"
   ]
  },
  {
   "cell_type": "markdown",
   "metadata": {},
   "source": [
    "<컬럼 설명>\n",
    "* Unnamed: 0 : 고유번호\n",
    "*  country : 생산 나라\n",
    "* description : 설명\n",
    "* designation : 소몰리에의 한줄평\n",
    "* points : 점수\n",
    "* price : 가격\n",
    "* province : 생산 지역 혹은 주\n",
    "* region_1 : 와인재배 지역\n",
    "* region_2 : 와인재배의 구체적인 지역\n",
    "* variety : 품종\n",
    "* winery : 와인 양조장"
   ]
  },
  {
   "cell_type": "markdown",
   "metadata": {},
   "source": [
    "### 2. 데이터 전처리"
   ]
  },
  {
   "cell_type": "markdown",
   "metadata": {},
   "source": [
    "*  Unnamed: 0 컬럼 이름 바꾸기"
   ]
  },
  {
   "cell_type": "code",
   "execution_count": 4,
   "metadata": {},
   "outputs": [],
   "source": [
    "wn = wn.rename(columns={'Unnamed: 0' : 'number'})"
   ]
  },
  {
   "cell_type": "markdown",
   "metadata": {},
   "source": [
    "* 컬럼별 결측치 확인"
   ]
  },
  {
   "cell_type": "code",
   "execution_count": 5,
   "metadata": {},
   "outputs": [
    {
     "data": {
      "text/plain": [
       "number             0\n",
       "country            5\n",
       "description        0\n",
       "designation    45735\n",
       "points             0\n",
       "price          13695\n",
       "province           5\n",
       "region_1       25060\n",
       "region_2       89977\n",
       "variety            0\n",
       "winery             0\n",
       "dtype: int64"
      ]
     },
     "execution_count": 5,
     "metadata": {},
     "output_type": "execute_result"
    }
   ],
   "source": [
    "wn.isnull().sum()"
   ]
  },
  {
   "cell_type": "markdown",
   "metadata": {},
   "source": [
    "* 가격컬럼의 결측치를 대체값으로 넣기 힘들어 결측치를 제거한다."
   ]
  },
  {
   "cell_type": "code",
   "execution_count": 6,
   "metadata": {},
   "outputs": [],
   "source": [
    "wn = wn.dropna(axis ='index', how = 'all', subset = 'price')"
   ]
  },
  {
   "cell_type": "markdown",
   "metadata": {},
   "source": [
    "* 와인 생산 개수가 10개 미만인 것은 평균데이터를 잡기 어려워 제거한다."
   ]
  },
  {
   "cell_type": "code",
   "execution_count": 7,
   "metadata": {},
   "outputs": [
    {
     "data": {
      "text/html": [
       "<div>\n",
       "<style scoped>\n",
       "    .dataframe tbody tr th:only-of-type {\n",
       "        vertical-align: middle;\n",
       "    }\n",
       "\n",
       "    .dataframe tbody tr th {\n",
       "        vertical-align: top;\n",
       "    }\n",
       "\n",
       "    .dataframe thead th {\n",
       "        text-align: right;\n",
       "    }\n",
       "</style>\n",
       "<table border=\"1\" class=\"dataframe\">\n",
       "  <thead>\n",
       "    <tr style=\"text-align: right;\">\n",
       "      <th></th>\n",
       "      <th>number</th>\n",
       "      <th>country</th>\n",
       "      <th>description</th>\n",
       "      <th>designation</th>\n",
       "      <th>points</th>\n",
       "      <th>price</th>\n",
       "      <th>province</th>\n",
       "      <th>region_1</th>\n",
       "      <th>region_2</th>\n",
       "      <th>variety</th>\n",
       "      <th>winery</th>\n",
       "    </tr>\n",
       "  </thead>\n",
       "  <tbody>\n",
       "    <tr>\n",
       "      <th>0</th>\n",
       "      <td>0</td>\n",
       "      <td>US</td>\n",
       "      <td>This tremendous 100% varietal wine hails from ...</td>\n",
       "      <td>Martha's Vineyard</td>\n",
       "      <td>96</td>\n",
       "      <td>235.0</td>\n",
       "      <td>California</td>\n",
       "      <td>Napa Valley</td>\n",
       "      <td>Napa</td>\n",
       "      <td>Cabernet Sauvignon</td>\n",
       "      <td>Heitz</td>\n",
       "    </tr>\n",
       "    <tr>\n",
       "      <th>1</th>\n",
       "      <td>1</td>\n",
       "      <td>Spain</td>\n",
       "      <td>Ripe aromas of fig, blackberry and cassis are ...</td>\n",
       "      <td>Carodorum Selección Especial Reserva</td>\n",
       "      <td>96</td>\n",
       "      <td>110.0</td>\n",
       "      <td>Northern Spain</td>\n",
       "      <td>Toro</td>\n",
       "      <td>NaN</td>\n",
       "      <td>Tinta de Toro</td>\n",
       "      <td>Bodega Carmen Rodríguez</td>\n",
       "    </tr>\n",
       "    <tr>\n",
       "      <th>2</th>\n",
       "      <td>2</td>\n",
       "      <td>US</td>\n",
       "      <td>Mac Watson honors the memory of a wine once ma...</td>\n",
       "      <td>Special Selected Late Harvest</td>\n",
       "      <td>96</td>\n",
       "      <td>90.0</td>\n",
       "      <td>California</td>\n",
       "      <td>Knights Valley</td>\n",
       "      <td>Sonoma</td>\n",
       "      <td>Sauvignon Blanc</td>\n",
       "      <td>Macauley</td>\n",
       "    </tr>\n",
       "    <tr>\n",
       "      <th>3</th>\n",
       "      <td>3</td>\n",
       "      <td>US</td>\n",
       "      <td>This spent 20 months in 30% new French oak, an...</td>\n",
       "      <td>Reserve</td>\n",
       "      <td>96</td>\n",
       "      <td>65.0</td>\n",
       "      <td>Oregon</td>\n",
       "      <td>Willamette Valley</td>\n",
       "      <td>Willamette Valley</td>\n",
       "      <td>Pinot Noir</td>\n",
       "      <td>Ponzi</td>\n",
       "    </tr>\n",
       "    <tr>\n",
       "      <th>4</th>\n",
       "      <td>4</td>\n",
       "      <td>France</td>\n",
       "      <td>This is the top wine from La Bégude, named aft...</td>\n",
       "      <td>La Brûlade</td>\n",
       "      <td>95</td>\n",
       "      <td>66.0</td>\n",
       "      <td>Provence</td>\n",
       "      <td>Bandol</td>\n",
       "      <td>NaN</td>\n",
       "      <td>Provence red blend</td>\n",
       "      <td>Domaine de la Bégude</td>\n",
       "    </tr>\n",
       "    <tr>\n",
       "      <th>...</th>\n",
       "      <td>...</td>\n",
       "      <td>...</td>\n",
       "      <td>...</td>\n",
       "      <td>...</td>\n",
       "      <td>...</td>\n",
       "      <td>...</td>\n",
       "      <td>...</td>\n",
       "      <td>...</td>\n",
       "      <td>...</td>\n",
       "      <td>...</td>\n",
       "      <td>...</td>\n",
       "    </tr>\n",
       "    <tr>\n",
       "      <th>150925</th>\n",
       "      <td>150925</td>\n",
       "      <td>Italy</td>\n",
       "      <td>Many people feel Fiano represents southern Ita...</td>\n",
       "      <td>NaN</td>\n",
       "      <td>91</td>\n",
       "      <td>20.0</td>\n",
       "      <td>Southern Italy</td>\n",
       "      <td>Fiano di Avellino</td>\n",
       "      <td>NaN</td>\n",
       "      <td>White Blend</td>\n",
       "      <td>Feudi di San Gregorio</td>\n",
       "    </tr>\n",
       "    <tr>\n",
       "      <th>150926</th>\n",
       "      <td>150926</td>\n",
       "      <td>France</td>\n",
       "      <td>Offers an intriguing nose with ginger, lime an...</td>\n",
       "      <td>Cuvée Prestige</td>\n",
       "      <td>91</td>\n",
       "      <td>27.0</td>\n",
       "      <td>Champagne</td>\n",
       "      <td>Champagne</td>\n",
       "      <td>NaN</td>\n",
       "      <td>Champagne Blend</td>\n",
       "      <td>H.Germain</td>\n",
       "    </tr>\n",
       "    <tr>\n",
       "      <th>150927</th>\n",
       "      <td>150927</td>\n",
       "      <td>Italy</td>\n",
       "      <td>This classic example comes from a cru vineyard...</td>\n",
       "      <td>Terre di Dora</td>\n",
       "      <td>91</td>\n",
       "      <td>20.0</td>\n",
       "      <td>Southern Italy</td>\n",
       "      <td>Fiano di Avellino</td>\n",
       "      <td>NaN</td>\n",
       "      <td>White Blend</td>\n",
       "      <td>Terredora</td>\n",
       "    </tr>\n",
       "    <tr>\n",
       "      <th>150928</th>\n",
       "      <td>150928</td>\n",
       "      <td>France</td>\n",
       "      <td>A perfect salmon shade, with scents of peaches...</td>\n",
       "      <td>Grand Brut Rosé</td>\n",
       "      <td>90</td>\n",
       "      <td>52.0</td>\n",
       "      <td>Champagne</td>\n",
       "      <td>Champagne</td>\n",
       "      <td>NaN</td>\n",
       "      <td>Champagne Blend</td>\n",
       "      <td>Gosset</td>\n",
       "    </tr>\n",
       "    <tr>\n",
       "      <th>150929</th>\n",
       "      <td>150929</td>\n",
       "      <td>Italy</td>\n",
       "      <td>More Pinot Grigios should taste like this. A r...</td>\n",
       "      <td>NaN</td>\n",
       "      <td>90</td>\n",
       "      <td>15.0</td>\n",
       "      <td>Northeastern Italy</td>\n",
       "      <td>Alto Adige</td>\n",
       "      <td>NaN</td>\n",
       "      <td>Pinot Grigio</td>\n",
       "      <td>Alois Lageder</td>\n",
       "    </tr>\n",
       "  </tbody>\n",
       "</table>\n",
       "<p>136067 rows × 11 columns</p>\n",
       "</div>"
      ],
      "text/plain": [
       "        number country                                        description  \\\n",
       "0            0      US  This tremendous 100% varietal wine hails from ...   \n",
       "1            1   Spain  Ripe aromas of fig, blackberry and cassis are ...   \n",
       "2            2      US  Mac Watson honors the memory of a wine once ma...   \n",
       "3            3      US  This spent 20 months in 30% new French oak, an...   \n",
       "4            4  France  This is the top wine from La Bégude, named aft...   \n",
       "...        ...     ...                                                ...   \n",
       "150925  150925   Italy  Many people feel Fiano represents southern Ita...   \n",
       "150926  150926  France  Offers an intriguing nose with ginger, lime an...   \n",
       "150927  150927   Italy  This classic example comes from a cru vineyard...   \n",
       "150928  150928  France  A perfect salmon shade, with scents of peaches...   \n",
       "150929  150929   Italy  More Pinot Grigios should taste like this. A r...   \n",
       "\n",
       "                                 designation  points  price  \\\n",
       "0                          Martha's Vineyard      96  235.0   \n",
       "1       Carodorum Selección Especial Reserva      96  110.0   \n",
       "2              Special Selected Late Harvest      96   90.0   \n",
       "3                                    Reserve      96   65.0   \n",
       "4                                 La Brûlade      95   66.0   \n",
       "...                                      ...     ...    ...   \n",
       "150925                                   NaN      91   20.0   \n",
       "150926                        Cuvée Prestige      91   27.0   \n",
       "150927                         Terre di Dora      91   20.0   \n",
       "150928                       Grand Brut Rosé      90   52.0   \n",
       "150929                                   NaN      90   15.0   \n",
       "\n",
       "                  province           region_1           region_2  \\\n",
       "0               California        Napa Valley               Napa   \n",
       "1           Northern Spain               Toro                NaN   \n",
       "2               California     Knights Valley             Sonoma   \n",
       "3                   Oregon  Willamette Valley  Willamette Valley   \n",
       "4                 Provence             Bandol                NaN   \n",
       "...                    ...                ...                ...   \n",
       "150925      Southern Italy  Fiano di Avellino                NaN   \n",
       "150926           Champagne          Champagne                NaN   \n",
       "150927      Southern Italy  Fiano di Avellino                NaN   \n",
       "150928           Champagne          Champagne                NaN   \n",
       "150929  Northeastern Italy         Alto Adige                NaN   \n",
       "\n",
       "                   variety                   winery  \n",
       "0       Cabernet Sauvignon                    Heitz  \n",
       "1            Tinta de Toro  Bodega Carmen Rodríguez  \n",
       "2          Sauvignon Blanc                 Macauley  \n",
       "3               Pinot Noir                    Ponzi  \n",
       "4       Provence red blend     Domaine de la Bégude  \n",
       "...                    ...                      ...  \n",
       "150925         White Blend    Feudi di San Gregorio  \n",
       "150926     Champagne Blend                H.Germain  \n",
       "150927         White Blend                Terredora  \n",
       "150928     Champagne Blend                   Gosset  \n",
       "150929        Pinot Grigio            Alois Lageder  \n",
       "\n",
       "[136067 rows x 11 columns]"
      ]
     },
     "execution_count": 7,
     "metadata": {},
     "output_type": "execute_result"
    }
   ],
   "source": [
    "wn_1 = wn['variety'].value_counts().reset_index(name = 'counts')\n",
    "wn_2 = wn_1[wn_1['counts'] > 10]['index'].tolist()\n",
    "wn = wn[wn['variety'].isin(wn_2)]\n",
    "wn"
   ]
  },
  {
   "cell_type": "markdown",
   "metadata": {},
   "source": [
    "* 나라별 생산량이 30개 미만인 와인도 제거한다"
   ]
  },
  {
   "cell_type": "code",
   "execution_count": 8,
   "metadata": {},
   "outputs": [],
   "source": [
    "wn_3 = wn.groupby(['country'])['variety'].value_counts().reset_index(name = 'counts')\n",
    "wn_4 = wn_3[wn_3['counts'] > 30]['variety'].tolist()\n",
    "wn  = wn[wn['variety'].isin(wn_4)]\n"
   ]
  },
  {
   "cell_type": "markdown",
   "metadata": {},
   "source": [
    "* 와인의 가격대비 점수를 계산하여 와인의 추천도값을 컬럼을 추가한다."
   ]
  },
  {
   "cell_type": "code",
   "execution_count": 9,
   "metadata": {},
   "outputs": [],
   "source": [
    "wn['recommand'] = wn['points']/wn['price']"
   ]
  },
  {
   "cell_type": "markdown",
   "metadata": {},
   "source": [
    "### 3. 질문하기 "
   ]
  },
  {
   "cell_type": "markdown",
   "metadata": {},
   "source": [
    "* 나라별 와인 평균 점수, 가격 품종생산량, 추천도은 어떻게 되는가?\n",
    "* 품종별 가격, 점수는 어떠한가?\n",
    "* 와이너리별 점수,가격은 어떠한가?\n",
    "* 나라별 생산량 Top5품종의 주요 특징\n",
    "* 어떠한 요인이 가격을 결정하는데 영향을 많이 미쳤는가?\n",
    "* 점수가 높은 와인을 생산하는 와이너리의 지리적 특징"
   ]
  },
  {
   "cell_type": "markdown",
   "metadata": {},
   "source": [
    "### 4. EDA"
   ]
  },
  {
   "cell_type": "markdown",
   "metadata": {},
   "source": [
    "#### 4-1 나라별 와인 평균 점수, 가격, 추천도는 어떻게 되는가?"
   ]
  },
  {
   "cell_type": "code",
   "execution_count": 10,
   "metadata": {},
   "outputs": [
    {
     "name": "stderr",
     "output_type": "stream",
     "text": [
      "C:\\Users\\User\\AppData\\Local\\Temp\\ipykernel_15732\\623673425.py:1: FutureWarning: Indexing with multiple keys (implicitly converted to a tuple of keys) will be deprecated, use a list instead.\n",
      "  wn_con = wn.groupby(['country'])['points','price','recommand'].mean()\n"
     ]
    }
   ],
   "source": [
    "wn_con = wn.groupby(['country'])['points','price','recommand'].mean()"
   ]
  },
  {
   "cell_type": "code",
   "execution_count": 11,
   "metadata": {},
   "outputs": [
    {
     "name": "stderr",
     "output_type": "stream",
     "text": [
      "C:\\Users\\User\\AppData\\Local\\Temp\\ipykernel_15732\\3119596296.py:5: MatplotlibDeprecationWarning: Auto-removal of overlapping axes is deprecated since 3.6 and will be removed two minor releases later; explicitly call ax.remove() as needed.\n",
      "  plt.subplot(2,2,1)\n",
      "C:\\Users\\User\\AppData\\Local\\Temp\\ipykernel_15732\\3119596296.py:16: MatplotlibDeprecationWarning: Auto-removal of overlapping axes is deprecated since 3.6 and will be removed two minor releases later; explicitly call ax.remove() as needed.\n",
      "  plt.subplot(2,2,3)\n"
     ]
    },
    {
     "data": {
      "image/png": "[encoded data removed]",
      "text/plain": [
       "<Figure size 1440x1440 with 3 Axes>"
      ]
     },
     "metadata": {
      "needs_background": "light"
     },
     "output_type": "display_data"
    }
   ],
   "source": [
    "f,ax = plt.subplots(2,1,figsize = (20,20),constrained_layout=True)\n",
    "\n",
    "f.suptitle('How about the average Score, Price and Recommand of wines by country?', fontsize = 30)\n",
    "\n",
    "plt.subplot(2,2,1)\n",
    "sns.barplot(data = wn_con.reset_index().sort_values(by = 'points',ascending= False).head(10),x = 'country', y = 'points',palette= 'RdPu_r')\n",
    "plt.ylim([85,95])\n",
    "plt.title(\"Points\",fontsize = 15)\n",
    "plt.xticks(rotation = 45);\n",
    "\n",
    "plt.subplot(2,2,2)\n",
    "sns.barplot(data = wn_con.reset_index().sort_values(by = 'price',ascending= False).head(10),x = 'country', y = 'price',palette= 'RdPu_r')\n",
    "plt.title(\"Price\",fontsize = 15)\n",
    "plt.xticks(rotation = 45);\n",
    "\n",
    "plt.subplot(2,2,3)\n",
    "sns.barplot(data = wn_con.reset_index().sort_values(by = 'recommand',ascending= False).head(10),x = 'country', y = 'recommand',palette= 'RdPu_r')\n",
    "plt.title(\"Recommand\",fontsize = 15)\n",
    "plt.xticks(rotation = 45);"
   ]
  },
  {
   "cell_type": "markdown",
   "metadata": {},
   "source": [
    "와인의 가격과 점수가 높은 나라는 주로 서유럽에서 생산된 와인으로 비싸고 좋은 와인을 마시고 싶으면  \n",
    "그 지역와인을 선택하면 되지만 점수대비 가격이 적절한 와인을 먹고싶다면 추천도가 좋은 불가리아, 리투아니아 등\n",
    "동유럽와인을 추천한다."
   ]
  },
  {
   "cell_type": "markdown",
   "metadata": {},
   "source": [
    "#### 4-2 품종별 가격, 점수, 추천도는 어떠한가?"
   ]
  },
  {
   "cell_type": "code",
   "execution_count": 12,
   "metadata": {},
   "outputs": [
    {
     "name": "stderr",
     "output_type": "stream",
     "text": [
      "C:\\Users\\User\\AppData\\Local\\Temp\\ipykernel_15732\\3758187540.py:1: FutureWarning: Indexing with multiple keys (implicitly converted to a tuple of keys) will be deprecated, use a list instead.\n",
      "  wn_va = wn.groupby(['variety'])['price','points','recommand'].mean().reset_index()\n"
     ]
    }
   ],
   "source": [
    "wn_va = wn.groupby(['variety'])['price','points','recommand'].mean().reset_index()\n"
   ]
  },
  {
   "cell_type": "code",
   "execution_count": 13,
   "metadata": {},
   "outputs": [
    {
     "name": "stderr",
     "output_type": "stream",
     "text": [
      "C:\\Users\\User\\AppData\\Local\\Temp\\ipykernel_15732\\2543397817.py:5: MatplotlibDeprecationWarning: Auto-removal of overlapping axes is deprecated since 3.6 and will be removed two minor releases later; explicitly call ax.remove() as needed.\n",
      "  plt.subplot(2,2,1)\n",
      "C:\\Users\\User\\AppData\\Local\\Temp\\ipykernel_15732\\2543397817.py:17: MatplotlibDeprecationWarning: Auto-removal of overlapping axes is deprecated since 3.6 and will be removed two minor releases later; explicitly call ax.remove() as needed.\n",
      "  plt.subplot(2,2,3)\n"
     ]
    },
    {
     "data": {
      "image/png": "[encoded data removed]",
      "text/plain": [
       "<Figure size 1440x1440 with 3 Axes>"
      ]
     },
     "metadata": {
      "needs_background": "light"
     },
     "output_type": "display_data"
    }
   ],
   "source": [
    "f,ax = plt.subplots(2,1,figsize=(20,20),constrained_layout=True)\n",
    "\n",
    "f.suptitle('How about the average Score, Price and Recommand of wines by variety?', fontsize = 30)\n",
    "\n",
    "plt.subplot(2,2,1)\n",
    "sns.barplot(data  = wn_va.sort_values(by = 'price',ascending= False).head(10),x = 'variety', y = 'price',palette= 'Reds_r')\n",
    "plt.ylim([40,85])\n",
    "plt.title(\"price\",fontsize = 15)\n",
    "plt.xticks(rotation = 45);\n",
    "\n",
    "plt.subplot(2,2,2)\n",
    "sns.barplot(data  = wn_va.sort_values(by = 'points',ascending= False).head(10),x = 'variety', y = 'points',palette= 'Reds_r')\n",
    "plt.ylim([85,95])\n",
    "plt.title(\"Points\",fontsize = 15)\n",
    "plt.xticks(rotation = 45);\n",
    "\n",
    "plt.subplot(2,2,3)\n",
    "sns.barplot(data  = wn_va.sort_values(by = 'recommand',ascending= False).head(10),x = 'variety', y = 'recommand',palette= 'Reds_r')\n",
    "plt.ylim([4,10])\n",
    "plt.title(\"recommand\",fontsize = 15)\n",
    "plt.xticks(rotation = 45);"
   ]
  },
  {
   "cell_type": "markdown",
   "metadata": {},
   "source": [
    " 가격높은 와인의 품종은 그래프에서 확인한 결과 Tinto Fino,Champagne Blend,Tokaji,Nebbiolo,Cabernet Blend 순으로 와인품종이 비싸고,  \n",
    " 점수는 Sangiovese Grosso, Tokaji, Nebbiolo,Austrian Red Blend, Zibibbo순으로 높은 점수를 보여준다.  \n",
    " 만약 내가 점수는 높지만 가격을 타협하고 싶을 때 추천도 가 높은 Tempranillo-Garnacha, Castelão, Viura 품종의 와인을 선택하면 좋은 선택지가\n",
    "될것이다."
   ]
  },
  {
   "cell_type": "markdown",
   "metadata": {},
   "source": [
    "#### 4-3 나라별 생산량이 Top5 품종의 특징은?"
   ]
  },
  {
   "cell_type": "code",
   "execution_count": 14,
   "metadata": {},
   "outputs": [
    {
     "data": {
      "text/plain": [
       "US        61261\n",
       "Italy     18039\n",
       "France    14338\n",
       "Spain      7650\n",
       "Chile      5635\n",
       "Name: country, dtype: int64"
      ]
     },
     "execution_count": 14,
     "metadata": {},
     "output_type": "execute_result"
    }
   ],
   "source": [
    "wn['country'].value_counts().head(5)"
   ]
  },
  {
   "cell_type": "markdown",
   "metadata": {},
   "source": [
    "생산량이 Top5인 나라는 미국, 이탈리아, 프랑스, 스페인, 칠레이다."
   ]
  },
  {
   "cell_type": "markdown",
   "metadata": {},
   "source": [
    "먼저 필요없는 단어를 선별한다"
   ]
  },
  {
   "cell_type": "code",
   "execution_count": 15,
   "metadata": {},
   "outputs": [],
   "source": [
    "# 필요없는 단어\n",
    "useless = ['a','and','the','of','with','in','is','this','to','it','for','its','that','but','or','from','Its','The','on','by','has']"
   ]
  },
  {
   "cell_type": "markdown",
   "metadata": {},
   "source": [
    "그럼 각 나라에서 생산된 와인의 설명에서 많이 나오는 단어를 나열해 보자"
   ]
  },
  {
   "cell_type": "markdown",
   "metadata": {},
   "source": [
    "미국 와인"
   ]
  },
  {
   "cell_type": "code",
   "execution_count": 16,
   "metadata": {},
   "outputs": [],
   "source": [
    "# 미국에서 제작된 와인을 먼저 추출한다.\n",
    "wn_us = wn[wn['country'] == 'US']\n",
    "# description컬럼을 단어마다 자르고, 특수문자를 제거한다.\n",
    "wn_us = pd.Series(str(list(wn_us['description'])).replace(',', '').replace(\"'\", '').replace('.', '').split()).value_counts().reset_index().rename(columns={'index':'US_word',0:'US_counts'})\n",
    "# 단어에서 필요없는 단어를 제외시킨다\n",
    "wn_us = wn_us[~wn_us['US_word'].isin(useless)].reset_index(drop=True).head(30)"
   ]
  },
  {
   "cell_type": "markdown",
   "metadata": {},
   "source": [
    "이탈리아 와인"
   ]
  },
  {
   "cell_type": "code",
   "execution_count": 17,
   "metadata": {},
   "outputs": [],
   "source": [
    "wn_it = wn[wn['country'] == 'Italy']\n",
    "wn_it = pd.Series(str(list(wn_it['description'])).replace(',', '').replace(\"'\", '').replace('.', '').split()).value_counts().reset_index().rename(columns={'index':'Italy_word',0:'Italy_counts'})\n",
    "wn_it = wn_it[~wn_it['Italy_word'].isin(useless)].reset_index(drop=True).head(30)"
   ]
  },
  {
   "cell_type": "markdown",
   "metadata": {},
   "source": [
    "프랑스 와인"
   ]
  },
  {
   "cell_type": "code",
   "execution_count": 18,
   "metadata": {},
   "outputs": [],
   "source": [
    "wn_fr = wn[wn['country'] == 'France']\n",
    "wn_fr = pd.Series(str(list(wn_fr['description'])).replace(',', '').replace(\"'\", '').replace('.', '').split()).value_counts().reset_index().rename(columns={'index':'France_word',0:'France_counts'})\n",
    "wn_fr = wn_fr[~wn_fr['France_word'].isin(useless)].reset_index(drop=True).head(30)"
   ]
  },
  {
   "cell_type": "markdown",
   "metadata": {},
   "source": [
    "스페인 와인"
   ]
  },
  {
   "cell_type": "code",
   "execution_count": 19,
   "metadata": {},
   "outputs": [],
   "source": [
    "wn_sp = wn[wn['country'] == 'Spain']\n",
    "wn_sp = pd.Series(str(list(wn_sp['description'])).replace(',', '').replace(\"'\", '').replace('.', '').split()).value_counts().reset_index().rename(columns={'index':'Spain_word',0:'Spain_counts'})\n",
    "wn_sp = wn_sp[~wn_sp['Spain_word'].isin(useless)].reset_index(drop=True).head(30)"
   ]
  },
  {
   "cell_type": "markdown",
   "metadata": {},
   "source": [
    "칠레 와인"
   ]
  },
  {
   "cell_type": "code",
   "execution_count": 20,
   "metadata": {},
   "outputs": [],
   "source": [
    "wn_ch = wn[wn['country'] == 'Chile']\n",
    "wn_ch = pd.Series(str(list(wn_ch['description'])).replace(',', '').replace(\"'\", '').replace('.', '').split()).value_counts().reset_index().rename(columns={'index':'Chile_word',0:'Chile_counts'})\n",
    "wn_ch = wn_ch[~wn_ch['Chile_word'].isin(useless)].reset_index(drop=True).head(30)"
   ]
  },
  {
   "cell_type": "markdown",
   "metadata": {},
   "source": [
    "모든 나라를 합쳐서 보자"
   ]
  },
  {
   "cell_type": "code",
   "execution_count": 21,
   "metadata": {},
   "outputs": [
    {
     "data": {
      "text/html": [
       "<div>\n",
       "<style scoped>\n",
       "    .dataframe tbody tr th:only-of-type {\n",
       "        vertical-align: middle;\n",
       "    }\n",
       "\n",
       "    .dataframe tbody tr th {\n",
       "        vertical-align: top;\n",
       "    }\n",
       "\n",
       "    .dataframe thead th {\n",
       "        text-align: right;\n",
       "    }\n",
       "</style>\n",
       "<table border=\"1\" class=\"dataframe\">\n",
       "  <thead>\n",
       "    <tr style=\"text-align: right;\">\n",
       "      <th></th>\n",
       "      <th>US_word</th>\n",
       "      <th>US_counts</th>\n",
       "      <th>Italy_word</th>\n",
       "      <th>Italy_counts</th>\n",
       "      <th>France_word</th>\n",
       "      <th>France_counts</th>\n",
       "      <th>Spain_word</th>\n",
       "      <th>Spain_counts</th>\n",
       "      <th>Chile_word</th>\n",
       "      <th>Chile_counts</th>\n",
       "    </tr>\n",
       "  </thead>\n",
       "  <tbody>\n",
       "    <tr>\n",
       "      <th>0</th>\n",
       "      <td>flavors</td>\n",
       "      <td>37485</td>\n",
       "      <td>wine</td>\n",
       "      <td>10842</td>\n",
       "      <td>wine</td>\n",
       "      <td>12760</td>\n",
       "      <td>flavors</td>\n",
       "      <td>5479</td>\n",
       "      <td>flavors</td>\n",
       "      <td>4201</td>\n",
       "    </tr>\n",
       "    <tr>\n",
       "      <th>1</th>\n",
       "      <td>wine</td>\n",
       "      <td>29874</td>\n",
       "      <td>fruit</td>\n",
       "      <td>8404</td>\n",
       "      <td>fruit</td>\n",
       "      <td>5800</td>\n",
       "      <td>aromas</td>\n",
       "      <td>4398</td>\n",
       "      <td>aromas</td>\n",
       "      <td>3180</td>\n",
       "    </tr>\n",
       "    <tr>\n",
       "      <th>2</th>\n",
       "      <td>fruit</td>\n",
       "      <td>19482</td>\n",
       "      <td>aromas</td>\n",
       "      <td>8345</td>\n",
       "      <td>acidity</td>\n",
       "      <td>5631</td>\n",
       "      <td>palate</td>\n",
       "      <td>3992</td>\n",
       "      <td>palate</td>\n",
       "      <td>2887</td>\n",
       "    </tr>\n",
       "    <tr>\n",
       "      <th>3</th>\n",
       "      <td>cherry</td>\n",
       "      <td>14606</td>\n",
       "      <td>cherry</td>\n",
       "      <td>6018</td>\n",
       "      <td>flavors</td>\n",
       "      <td>5414</td>\n",
       "      <td>finish</td>\n",
       "      <td>3712</td>\n",
       "      <td>finish</td>\n",
       "      <td>2684</td>\n",
       "    </tr>\n",
       "    <tr>\n",
       "      <th>4</th>\n",
       "      <td>dry</td>\n",
       "      <td>12996</td>\n",
       "      <td>spice</td>\n",
       "      <td>5235</td>\n",
       "      <td>It</td>\n",
       "      <td>4413</td>\n",
       "      <td>wine</td>\n",
       "      <td>2374</td>\n",
       "      <td>fruit</td>\n",
       "      <td>2024</td>\n",
       "    </tr>\n",
       "    <tr>\n",
       "      <th>5</th>\n",
       "      <td>tannins</td>\n",
       "      <td>12903</td>\n",
       "      <td>This</td>\n",
       "      <td>4728</td>\n",
       "      <td>ripe</td>\n",
       "      <td>3924</td>\n",
       "      <td>are</td>\n",
       "      <td>2300</td>\n",
       "      <td>berry</td>\n",
       "      <td>1879</td>\n",
       "    </tr>\n",
       "    <tr>\n",
       "      <th>6</th>\n",
       "      <td>oak</td>\n",
       "      <td>11792</td>\n",
       "      <td>palate</td>\n",
       "      <td>4239</td>\n",
       "      <td>tannins</td>\n",
       "      <td>3793</td>\n",
       "      <td>fruit</td>\n",
       "      <td>2256</td>\n",
       "      <td>nose</td>\n",
       "      <td>1665</td>\n",
       "    </tr>\n",
       "    <tr>\n",
       "      <th>7</th>\n",
       "      <td>acidity</td>\n",
       "      <td>11466</td>\n",
       "      <td>offers</td>\n",
       "      <td>3792</td>\n",
       "      <td>fruits</td>\n",
       "      <td>3521</td>\n",
       "      <td>berry</td>\n",
       "      <td>2206</td>\n",
       "      <td>wine</td>\n",
       "      <td>1664</td>\n",
       "    </tr>\n",
       "    <tr>\n",
       "      <th>8</th>\n",
       "      <td>are</td>\n",
       "      <td>10628</td>\n",
       "      <td>black</td>\n",
       "      <td>3753</td>\n",
       "      <td>This</td>\n",
       "      <td>3134</td>\n",
       "      <td>nose</td>\n",
       "      <td>2163</td>\n",
       "      <td>herbal</td>\n",
       "      <td>1500</td>\n",
       "    </tr>\n",
       "    <tr>\n",
       "      <th>9</th>\n",
       "      <td>finish</td>\n",
       "      <td>10372</td>\n",
       "      <td>tannins</td>\n",
       "      <td>3652</td>\n",
       "      <td>A</td>\n",
       "      <td>2933</td>\n",
       "      <td>plum</td>\n",
       "      <td>2044</td>\n",
       "      <td>are</td>\n",
       "      <td>1413</td>\n",
       "    </tr>\n",
       "    <tr>\n",
       "      <th>10</th>\n",
       "      <td>sweet</td>\n",
       "      <td>9615</td>\n",
       "      <td>notes</td>\n",
       "      <td>3598</td>\n",
       "      <td>fresh</td>\n",
       "      <td>2693</td>\n",
       "      <td>while</td>\n",
       "      <td>1935</td>\n",
       "      <td>plum</td>\n",
       "      <td>1327</td>\n",
       "    </tr>\n",
       "    <tr>\n",
       "      <th>11</th>\n",
       "      <td>rich</td>\n",
       "      <td>9530</td>\n",
       "      <td>berry</td>\n",
       "      <td>2992</td>\n",
       "      <td>as</td>\n",
       "      <td>2683</td>\n",
       "      <td>cherry</td>\n",
       "      <td>1635</td>\n",
       "      <td>while</td>\n",
       "      <td>1169</td>\n",
       "    </tr>\n",
       "    <tr>\n",
       "      <th>12</th>\n",
       "      <td>ripe</td>\n",
       "      <td>9248</td>\n",
       "      <td>white</td>\n",
       "      <td>2924</td>\n",
       "      <td>rich</td>\n",
       "      <td>2625</td>\n",
       "      <td>as</td>\n",
       "      <td>1607</td>\n",
       "      <td>as</td>\n",
       "      <td>1103</td>\n",
       "    </tr>\n",
       "    <tr>\n",
       "      <th>13</th>\n",
       "      <td>black</td>\n",
       "      <td>9168</td>\n",
       "      <td>bright</td>\n",
       "      <td>2881</td>\n",
       "      <td>finish</td>\n",
       "      <td>2410</td>\n",
       "      <td>This</td>\n",
       "      <td>1493</td>\n",
       "      <td>black</td>\n",
       "      <td>1040</td>\n",
       "    </tr>\n",
       "    <tr>\n",
       "      <th>14</th>\n",
       "      <td>This</td>\n",
       "      <td>8537</td>\n",
       "      <td>flavors</td>\n",
       "      <td>2853</td>\n",
       "      <td>Drink</td>\n",
       "      <td>2387</td>\n",
       "      <td>A</td>\n",
       "      <td>1407</td>\n",
       "      <td>cherry</td>\n",
       "      <td>1024</td>\n",
       "    </tr>\n",
       "    <tr>\n",
       "      <th>15</th>\n",
       "      <td>now</td>\n",
       "      <td>8331</td>\n",
       "      <td>finish</td>\n",
       "      <td>2835</td>\n",
       "      <td>character</td>\n",
       "      <td>2272</td>\n",
       "      <td>good</td>\n",
       "      <td>1291</td>\n",
       "      <td>green</td>\n",
       "      <td>987</td>\n",
       "    </tr>\n",
       "    <tr>\n",
       "      <th>16</th>\n",
       "      <td>A</td>\n",
       "      <td>8258</td>\n",
       "      <td>are</td>\n",
       "      <td>2594</td>\n",
       "      <td>red</td>\n",
       "      <td>2248</td>\n",
       "      <td>black</td>\n",
       "      <td>1236</td>\n",
       "      <td>oak</td>\n",
       "      <td>980</td>\n",
       "    </tr>\n",
       "    <tr>\n",
       "      <th>17</th>\n",
       "      <td>an</td>\n",
       "      <td>7491</td>\n",
       "      <td>an</td>\n",
       "      <td>2572</td>\n",
       "      <td>are</td>\n",
       "      <td>2157</td>\n",
       "      <td>apple</td>\n",
       "      <td>1230</td>\n",
       "      <td>A</td>\n",
       "      <td>978</td>\n",
       "    </tr>\n",
       "    <tr>\n",
       "      <th>18</th>\n",
       "      <td>as</td>\n",
       "      <td>7350</td>\n",
       "      <td>fresh</td>\n",
       "      <td>2563</td>\n",
       "      <td>an</td>\n",
       "      <td>2128</td>\n",
       "      <td>notes</td>\n",
       "      <td>1134</td>\n",
       "      <td>notes</td>\n",
       "      <td>959</td>\n",
       "    </tr>\n",
       "    <tr>\n",
       "      <th>19</th>\n",
       "      <td>blackberry</td>\n",
       "      <td>7211</td>\n",
       "      <td>ripe</td>\n",
       "      <td>2520</td>\n",
       "      <td>texture</td>\n",
       "      <td>2112</td>\n",
       "      <td>raspberry</td>\n",
       "      <td>1125</td>\n",
       "      <td>good</td>\n",
       "      <td>956</td>\n",
       "    </tr>\n",
       "    <tr>\n",
       "      <th>20</th>\n",
       "      <td>It</td>\n",
       "      <td>7203</td>\n",
       "      <td>mouth</td>\n",
       "      <td>2448</td>\n",
       "      <td>wood</td>\n",
       "      <td>2044</td>\n",
       "      <td>Drink</td>\n",
       "      <td>1088</td>\n",
       "      <td>acidity</td>\n",
       "      <td>814</td>\n",
       "    </tr>\n",
       "    <tr>\n",
       "      <th>21</th>\n",
       "      <td>good</td>\n",
       "      <td>7010</td>\n",
       "      <td>blend</td>\n",
       "      <td>2395</td>\n",
       "      <td>crisp</td>\n",
       "      <td>2012</td>\n",
       "      <td>not</td>\n",
       "      <td>1074</td>\n",
       "      <td>This</td>\n",
       "      <td>803</td>\n",
       "    </tr>\n",
       "    <tr>\n",
       "      <th>22</th>\n",
       "      <td>Cabernet</td>\n",
       "      <td>6790</td>\n",
       "      <td>red</td>\n",
       "      <td>2242</td>\n",
       "      <td>soft</td>\n",
       "      <td>2007</td>\n",
       "      <td>red</td>\n",
       "      <td>1068</td>\n",
       "      <td>blackberry</td>\n",
       "      <td>794</td>\n",
       "    </tr>\n",
       "    <tr>\n",
       "      <th>23</th>\n",
       "      <td>red</td>\n",
       "      <td>6629</td>\n",
       "      <td>It</td>\n",
       "      <td>2230</td>\n",
       "      <td>black</td>\n",
       "      <td>1958</td>\n",
       "      <td>oak</td>\n",
       "      <td>1006</td>\n",
       "      <td>spice</td>\n",
       "      <td>782</td>\n",
       "    </tr>\n",
       "    <tr>\n",
       "      <th>24</th>\n",
       "      <td>vanilla</td>\n",
       "      <td>6447</td>\n",
       "      <td>acidity</td>\n",
       "      <td>2227</td>\n",
       "      <td>years</td>\n",
       "      <td>1923</td>\n",
       "      <td>sweet</td>\n",
       "      <td>1003</td>\n",
       "      <td>sweet</td>\n",
       "      <td>753</td>\n",
       "    </tr>\n",
       "    <tr>\n",
       "      <th>25</th>\n",
       "      <td>Pinot</td>\n",
       "      <td>6412</td>\n",
       "      <td>shows</td>\n",
       "      <td>2202</td>\n",
       "      <td>some</td>\n",
       "      <td>1850</td>\n",
       "      <td>spice</td>\n",
       "      <td>1002</td>\n",
       "      <td>apple</td>\n",
       "      <td>752</td>\n",
       "    </tr>\n",
       "    <tr>\n",
       "      <th>26</th>\n",
       "      <td>soft</td>\n",
       "      <td>6265</td>\n",
       "      <td>opens</td>\n",
       "      <td>2152</td>\n",
       "      <td>dry</td>\n",
       "      <td>1786</td>\n",
       "      <td>fresh</td>\n",
       "      <td>999</td>\n",
       "      <td>not</td>\n",
       "      <td>693</td>\n",
       "    </tr>\n",
       "    <tr>\n",
       "      <th>27</th>\n",
       "      <td>cherries</td>\n",
       "      <td>6217</td>\n",
       "      <td>tones</td>\n",
       "      <td>2140</td>\n",
       "      <td>structure</td>\n",
       "      <td>1769</td>\n",
       "      <td>acidity</td>\n",
       "      <td>999</td>\n",
       "      <td>red</td>\n",
       "      <td>680</td>\n",
       "    </tr>\n",
       "    <tr>\n",
       "      <th>28</th>\n",
       "      <td>very</td>\n",
       "      <td>6176</td>\n",
       "      <td>delivers</td>\n",
       "      <td>2124</td>\n",
       "      <td>well</td>\n",
       "      <td>1769</td>\n",
       "      <td>blackberry</td>\n",
       "      <td>964</td>\n",
       "      <td>cassis</td>\n",
       "      <td>679</td>\n",
       "    </tr>\n",
       "    <tr>\n",
       "      <th>29</th>\n",
       "      <td>palate</td>\n",
       "      <td>5972</td>\n",
       "      <td>blackberry</td>\n",
       "      <td>2020</td>\n",
       "      <td>spice</td>\n",
       "      <td>1674</td>\n",
       "      <td>vanilla</td>\n",
       "      <td>914</td>\n",
       "      <td>more</td>\n",
       "      <td>655</td>\n",
       "    </tr>\n",
       "  </tbody>\n",
       "</table>\n",
       "</div>"
      ],
      "text/plain": [
       "       US_word  US_counts  Italy_word  Italy_counts France_word  \\\n",
       "0      flavors      37485        wine         10842        wine   \n",
       "1         wine      29874       fruit          8404       fruit   \n",
       "2        fruit      19482      aromas          8345     acidity   \n",
       "3       cherry      14606      cherry          6018     flavors   \n",
       "4          dry      12996       spice          5235          It   \n",
       "5      tannins      12903        This          4728        ripe   \n",
       "6          oak      11792      palate          4239     tannins   \n",
       "7      acidity      11466      offers          3792      fruits   \n",
       "8          are      10628       black          3753        This   \n",
       "9       finish      10372     tannins          3652           A   \n",
       "10       sweet       9615       notes          3598       fresh   \n",
       "11        rich       9530       berry          2992          as   \n",
       "12        ripe       9248       white          2924        rich   \n",
       "13       black       9168      bright          2881      finish   \n",
       "14        This       8537     flavors          2853       Drink   \n",
       "15         now       8331      finish          2835   character   \n",
       "16           A       8258         are          2594         red   \n",
       "17          an       7491          an          2572         are   \n",
       "18          as       7350       fresh          2563          an   \n",
       "19  blackberry       7211        ripe          2520     texture   \n",
       "20          It       7203       mouth          2448        wood   \n",
       "21        good       7010       blend          2395       crisp   \n",
       "22    Cabernet       6790         red          2242        soft   \n",
       "23         red       6629          It          2230       black   \n",
       "24     vanilla       6447     acidity          2227       years   \n",
       "25       Pinot       6412       shows          2202        some   \n",
       "26        soft       6265       opens          2152         dry   \n",
       "27    cherries       6217       tones          2140   structure   \n",
       "28        very       6176    delivers          2124        well   \n",
       "29      palate       5972  blackberry          2020       spice   \n",
       "\n",
       "    France_counts  Spain_word  Spain_counts  Chile_word  Chile_counts  \n",
       "0           12760     flavors          5479     flavors          4201  \n",
       "1            5800      aromas          4398      aromas          3180  \n",
       "2            5631      palate          3992      palate          2887  \n",
       "3            5414      finish          3712      finish          2684  \n",
       "4            4413        wine          2374       fruit          2024  \n",
       "5            3924         are          2300       berry          1879  \n",
       "6            3793       fruit          2256        nose          1665  \n",
       "7            3521       berry          2206        wine          1664  \n",
       "8            3134        nose          2163      herbal          1500  \n",
       "9            2933        plum          2044         are          1413  \n",
       "10           2693       while          1935        plum          1327  \n",
       "11           2683      cherry          1635       while          1169  \n",
       "12           2625          as          1607          as          1103  \n",
       "13           2410        This          1493       black          1040  \n",
       "14           2387           A          1407      cherry          1024  \n",
       "15           2272        good          1291       green           987  \n",
       "16           2248       black          1236         oak           980  \n",
       "17           2157       apple          1230           A           978  \n",
       "18           2128       notes          1134       notes           959  \n",
       "19           2112   raspberry          1125        good           956  \n",
       "20           2044       Drink          1088     acidity           814  \n",
       "21           2012         not          1074        This           803  \n",
       "22           2007         red          1068  blackberry           794  \n",
       "23           1958         oak          1006       spice           782  \n",
       "24           1923       sweet          1003       sweet           753  \n",
       "25           1850       spice          1002       apple           752  \n",
       "26           1786       fresh           999         not           693  \n",
       "27           1769     acidity           999         red           680  \n",
       "28           1769  blackberry           964      cassis           679  \n",
       "29           1674     vanilla           914        more           655  "
      ]
     },
     "execution_count": 21,
     "metadata": {},
     "output_type": "execute_result"
    }
   ],
   "source": [
    "wn_con_des = pd.concat([wn_us,wn_it,wn_fr,wn_sp,wn_ch],axis = 1)\n",
    "wn_con_des"
   ]
  },
  {
   "cell_type": "markdown",
   "metadata": {},
   "source": [
    "미국의 와인은 달콤한 맛과 타닌으로 떫은 맛이 강하고 와인을 만들때 블랙배리를   \n",
    "다른 나라의 와인보다 많이 넣는 다는 특징이 있다. 또한 와인에서 오크향 진하다.  \n",
    "\n",
    "이탈리아 와인은 와인을 만들때 향신료와 채리의 종류을 넣어 맛과 풍미가 강하다.  \n",
    "또한 다른 나라보다 화이트와인을 더 많이 생산하다.  \n",
    "\n",
    "프랑스 와인은 잘 익은 포도를 수확하여 와인을 생산한다. 또한 여러 종류의 과일을 넣는다는것은  \n",
    "프랑스 와인 만의 특징이다. 또한 레드 와인을 많이 생산하고 신맛이 강하게 난다.  \n",
    "\n",
    "스페인 와인도 프랑스 와인과 마찬가지로 다양한 과일을 넣어서 와인을 생산하는데 그 중 자두, 와인,  \n",
    "산딸기를 넣어 와인을 생산한다. 또한 와인의 아로마의 풍미가 풍부하다.  \n",
    "\n",
    "칠레와인은 스페인 와인과 같이 아로마의 풍미가 진하고, 스페인와인은 다른 나라와 다르게 허브를   \n",
    "비교적 많이 넣어 주고 향이 다양하고 강하다는 특징이 있다."
   ]
  },
  {
   "cell_type": "markdown",
   "metadata": {},
   "source": [
    "#### 4-4 어떠한 요인이 가격을 결정하는데 영향을 많이 미쳤는가?"
   ]
  },
  {
   "cell_type": "markdown",
   "metadata": {},
   "source": [
    "평균 가격이 높은 Top3를 선별한다."
   ]
  },
  {
   "cell_type": "code",
   "execution_count": 22,
   "metadata": {},
   "outputs": [
    {
     "data": {
      "text/html": [
       "<div>\n",
       "<style scoped>\n",
       "    .dataframe tbody tr th:only-of-type {\n",
       "        vertical-align: middle;\n",
       "    }\n",
       "\n",
       "    .dataframe tbody tr th {\n",
       "        vertical-align: top;\n",
       "    }\n",
       "\n",
       "    .dataframe thead th {\n",
       "        text-align: right;\n",
       "    }\n",
       "</style>\n",
       "<table border=\"1\" class=\"dataframe\">\n",
       "  <thead>\n",
       "    <tr style=\"text-align: right;\">\n",
       "      <th></th>\n",
       "      <th>variety</th>\n",
       "      <th>mean</th>\n",
       "    </tr>\n",
       "  </thead>\n",
       "  <tbody>\n",
       "    <tr>\n",
       "      <th>0</th>\n",
       "      <td>Tinto Fino</td>\n",
       "      <td>83.120000</td>\n",
       "    </tr>\n",
       "    <tr>\n",
       "      <th>1</th>\n",
       "      <td>Champagne Blend</td>\n",
       "      <td>78.627119</td>\n",
       "    </tr>\n",
       "    <tr>\n",
       "      <th>2</th>\n",
       "      <td>Tokaji</td>\n",
       "      <td>71.222222</td>\n",
       "    </tr>\n",
       "  </tbody>\n",
       "</table>\n",
       "</div>"
      ],
      "text/plain": [
       "           variety       mean\n",
       "0       Tinto Fino  83.120000\n",
       "1  Champagne Blend  78.627119\n",
       "2           Tokaji  71.222222"
      ]
     },
     "execution_count": 22,
     "metadata": {},
     "output_type": "execute_result"
    }
   ],
   "source": [
    "wn.groupby(['variety'])['price'].mean().sort_values(ascending = False).head(3).reset_index(name = 'mean')"
   ]
  },
  {
   "cell_type": "markdown",
   "metadata": {},
   "source": [
    "Tinto Fino종의 특징 분석"
   ]
  },
  {
   "cell_type": "code",
   "execution_count": 23,
   "metadata": {},
   "outputs": [],
   "source": [
    "wn_tf = wn[wn['variety'] == 'Tinto Fino']\n",
    "wn_tf = pd.Series(str(list(wn_tf['description'])).replace(\",\",\"\").replace(\"[\",\"\").split()).value_counts().reset_index().rename(columns={'index':'word',0:'counts'})\n",
    "wn_tf = wn_tf[~wn_tf['word'].isin(useless)]['word'].tolist()\n"
   ]
  },
  {
   "cell_type": "markdown",
   "metadata": {},
   "source": [
    "Champagne Blend의 특징 분석 및 Tinto Fino종과의 공통적인 특징 선별"
   ]
  },
  {
   "cell_type": "code",
   "execution_count": 24,
   "metadata": {},
   "outputs": [],
   "source": [
    "wn_cb = wn[wn['variety'] == 'Champagne Blend']\n",
    "wn_cb = pd.Series(str(list(wn_cb['description'])).replace(\",\",\"\").replace(\"[\",\"\").split()).value_counts().reset_index().rename(columns={'index':'word',0:'counts'})\n",
    "wn_cb[~wn_cb['word'].isin(useless)]\n",
    "\n",
    "wn_po = wn_cb[wn_cb['word'].isin(wn_tf)].head(30)['word'].tolist()"
   ]
  },
  {
   "cell_type": "markdown",
   "metadata": {},
   "source": [
    "Tokaji종의 특징 분석 및 와인들의 공통적인 특징 선별"
   ]
  },
  {
   "cell_type": "code",
   "execution_count": 25,
   "metadata": {},
   "outputs": [
    {
     "data": {
      "text/plain": [
       "['wine', 'citrus', 'flavors', 'acidity', 'fruit']"
      ]
     },
     "execution_count": 25,
     "metadata": {},
     "output_type": "execute_result"
    }
   ],
   "source": [
    "wn_to = wn[wn['variety'] == 'Tokaji']\n",
    "wn_to = pd.Series(str(list(wn_to['description'])).replace(\",\",\"\").replace(\"[\",\"\").split()).value_counts().reset_index().rename(columns={'index':'word',0:'counts'})\n",
    "wn_to[~wn_to['word'].isin(useless)]\n",
    "\n",
    "wn_to[wn_to['word'].isin(wn_po)].head(5)['word'].tolist()\n"
   ]
  },
  {
   "cell_type": "markdown",
   "metadata": {},
   "source": [
    "와인제조시 기본재료와 함께 citrus(귤)을 같이 넣거나, 와인의 맛이 신맛이 높으면   \n",
    "평균가격이 높아질것을 기대할수 있다."
   ]
  },
  {
   "cell_type": "markdown",
   "metadata": {},
   "source": [
    "#### 4-5 점수가 높은 와이너리의 지리적 특징"
   ]
  },
  {
   "cell_type": "code",
   "execution_count": 26,
   "metadata": {},
   "outputs": [
    {
     "data": {
      "text/html": [
       "<div>\n",
       "<style scoped>\n",
       "    .dataframe tbody tr th:only-of-type {\n",
       "        vertical-align: middle;\n",
       "    }\n",
       "\n",
       "    .dataframe tbody tr th {\n",
       "        vertical-align: top;\n",
       "    }\n",
       "\n",
       "    .dataframe thead th {\n",
       "        text-align: right;\n",
       "    }\n",
       "</style>\n",
       "<table border=\"1\" class=\"dataframe\">\n",
       "  <thead>\n",
       "    <tr style=\"text-align: right;\">\n",
       "      <th></th>\n",
       "      <th>region_2</th>\n",
       "      <th>points</th>\n",
       "    </tr>\n",
       "  </thead>\n",
       "  <tbody>\n",
       "    <tr>\n",
       "      <th>0</th>\n",
       "      <td>Columbia Valley</td>\n",
       "      <td>88.942819</td>\n",
       "    </tr>\n",
       "    <tr>\n",
       "      <th>1</th>\n",
       "      <td>Napa</td>\n",
       "      <td>88.910651</td>\n",
       "    </tr>\n",
       "    <tr>\n",
       "      <th>2</th>\n",
       "      <td>Willamette Valley</td>\n",
       "      <td>88.895913</td>\n",
       "    </tr>\n",
       "  </tbody>\n",
       "</table>\n",
       "</div>"
      ],
      "text/plain": [
       "            region_2     points\n",
       "0    Columbia Valley  88.942819\n",
       "1               Napa  88.910651\n",
       "2  Willamette Valley  88.895913"
      ]
     },
     "execution_count": 26,
     "metadata": {},
     "output_type": "execute_result"
    }
   ],
   "source": [
    "wn_wi = wn.groupby(['region_2'])['points'].mean().sort_values(ascending = False).reset_index(name = 'points').head(3)\n",
    "wn_wi"
   ]
  },
  {
   "cell_type": "markdown",
   "metadata": {},
   "source": [
    "Columbia Valley, Nepa, \tWillamette Valley 순으로 재배되서 만들어진 와인이 평균 점수가 높다."
   ]
  },
  {
   "cell_type": "markdown",
   "metadata": {},
   "source": [
    "Columbia Valley : Columbia Valley의 지리적 특징은 전체 지역적으로 추운 겨울과 낮은 습도와 긴 건조 성장 시즌의 공통 기후 특성을 공유한다.\n",
    "이 지역의 따뜻한 낮과 시원한 밤은 포도의 산도와 당도의 균형을 유지하는 데 도움이 되어 와인에 풍미의 \n",
    " 독특한 균형을 부여한다. 포도나무는 캘리포니아보다 약간 더 오래 매달려있습니다. 이렇게 하면 \n",
    "포도가 성숙할 수 있는 시간이 늘어나 와인에서 나오는 아로마의 특징을 살릴수 있다.    \n",
    "\n",
    "Nepa Valley : Nepa Valley는 활발한 지각판 운동과 화산 활동으로 지금의 지형이 만들어졌다. 그리고 이로\n",
    "인해 33가지의 매우 다양한 토양이 조성되어있다.\n",
    "산맥의 영향과 태평양과의 근접성으로 Nepa Valley의 기후는 포도 재배를 위한 완벽한 지중해성 기후를 가진다.\n",
    "포도의 재배 기간에 화창하고 따뜻하며 건조한 날이 이어져 포도가 천천히 고르게 익을 수 있으며.\n",
    "질병 및 곰팡이 위험을 줄인다. 또한 저녁에는 서늘하여 큰 일교차로 인해 포도의 산도 유지에 도움을 준다.    \n",
    "\n",
    "Columbia Valley : 최근 수십 년 동안 Columbia Valley는 미국 포도 재배 지역이 여러 개 있는 주용 와인 생산지가 되었습니다.\n",
    "캘리포니아 보다 더 시원한 기후를 가진 Columbia Valley는 완만하고 구불구불한 언덕이 있어 세계에서 가장 좋은 \n",
    "Pinot noir와 Pinot gris을 생산한다. 그러나 Columbia Valley의 모든 지역이 포도밭에 적합한 것은 아니다."
   ]
  }
 ],
 "metadata": {
  "kernelspec": {
   "display_name": "Python 3.9.13 64-bit (microsoft store)",
   "language": "python",
   "name": "python3"
  },
  "language_info": {
   "codemirror_mode": {
    "name": "ipython",
    "version": 3
   },
   "file_extension": ".py",
   "mimetype": "text/x-python",
   "name": "python",
   "nbconvert_exporter": "python",
   "pygments_lexer": "ipython3",
   "version": "3.9.13"
  },
  "orig_nbformat": 4,
  "vscode": {
   "interpreter": {
    "hash": "23b4a3e8622309bcc6db3d5cc6eb73d60ab98d9ec23bad6a26b709981ccb403a"
   }
  }
 },
 "nbformat": 4,
 "nbformat_minor": 2
}
